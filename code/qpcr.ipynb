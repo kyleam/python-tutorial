{
 "metadata": {
  "name": ""
 },
 "nbformat": 3,
 "nbformat_minor": 0,
 "worksheets": [
  {
   "cells": [
    {
     "cell_type": "code",
     "collapsed": false,
     "input": [
      "## For inline matplotlib figures\n",
      "%pylab inline"
     ],
     "language": "python",
     "metadata": {},
     "outputs": [
      {
       "output_type": "stream",
       "stream": "stdout",
       "text": [
        "Populating the interactive namespace from numpy and matplotlib\n"
       ]
      }
     ],
     "prompt_number": 1
    },
    {
     "cell_type": "code",
     "collapsed": false,
     "input": [
      "import numpy as np\n",
      "import pandas as pd\n",
      "\n",
      "## display pandas data frames as plain text, not html table\n",
      "pd.set_option('notebook_repr_html', False)"
     ],
     "language": "python",
     "metadata": {},
     "outputs": [],
     "prompt_number": 2
    },
    {
     "cell_type": "markdown",
     "metadata": {},
     "source": [
      "# qPCR data analysis\n",
      "## Reading in and cleaning\n",
      "\n",
      "First read in the data and set the cells with \"Undetermined\" as null values."
     ]
    },
    {
     "cell_type": "code",
     "collapsed": false,
     "input": [
      "qdat = pd.read_csv('../data/qpcr.csv', na_values='Undetermined')"
     ],
     "language": "python",
     "metadata": {},
     "outputs": [],
     "prompt_number": 3
    },
    {
     "cell_type": "code",
     "collapsed": false,
     "input": [
      "qdat.head()"
     ],
     "language": "python",
     "metadata": {},
     "outputs": [
      {
       "metadata": {},
       "output_type": "pyout",
       "prompt_number": 4,
       "text": [
        "   Well Sample_Name Detector_Name Reporter     Ct  Threshold\n",
        "0   172  RMB200_A1C       FENG3_1     SYBR  26.44       0.39\n",
        "1   173  RMB200_A1C       FENG3_1     SYBR  27.38       0.39\n",
        "2   174  RMB200_A1C       FENG3_1     SYBR  27.76       0.39\n",
        "3   187  RMB200_AMY       FENG3_1     SYBR  27.83       0.39\n",
        "4   188  RMB200_AMY       FENG3_1     SYBR  28.94       0.39"
       ]
      }
     ],
     "prompt_number": 4
    },
    {
     "cell_type": "markdown",
     "metadata": {},
     "source": [
      "Find null values and remove."
     ]
    },
    {
     "cell_type": "code",
     "collapsed": false,
     "input": [
      "qdat = qdat[pd.notnull(qdat.Ct)]"
     ],
     "language": "python",
     "metadata": {},
     "outputs": [],
     "prompt_number": 5
    },
    {
     "cell_type": "markdown",
     "metadata": {},
     "source": [
      "Assign \"no template controls\" to separate data frame and remove from main one."
     ]
    },
    {
     "cell_type": "code",
     "collapsed": false,
     "input": [
      "ntc_idx = qdat.Sample_Name == 'NTC'\n",
      "ntc = qdat[ntc_idx]\n",
      "qdat = qdat[np.invert(ntc_idx)]  # np.invert reverses True/False"
     ],
     "language": "python",
     "metadata": {},
     "outputs": [],
     "prompt_number": 6
    },
    {
     "cell_type": "markdown",
     "metadata": {},
     "source": [
      "Set the Well columns as the index."
     ]
    },
    {
     "cell_type": "code",
     "collapsed": false,
     "input": [
      "qdat.set_index('Well', inplace=True)"
     ],
     "language": "python",
     "metadata": {},
     "outputs": [],
     "prompt_number": 7
    },
    {
     "cell_type": "markdown",
     "metadata": {},
     "source": [
      "Drop unneeded columns."
     ]
    },
    {
     "cell_type": "code",
     "collapsed": false,
     "input": [
      "qdat = qdat.drop(['Reporter', 'Threshold'], axis=1)"
     ],
     "language": "python",
     "metadata": {},
     "outputs": [],
     "prompt_number": 8
    },
    {
     "cell_type": "code",
     "collapsed": false,
     "input": [
      "qdat.head()"
     ],
     "language": "python",
     "metadata": {},
     "outputs": [
      {
       "metadata": {},
       "output_type": "pyout",
       "prompt_number": 9,
       "text": [
        "     Sample_Name Detector_Name     Ct\n",
        "Well                                 \n",
        "172   RMB200_A1C       FENG3_1  26.44\n",
        "173   RMB200_A1C       FENG3_1  27.38\n",
        "174   RMB200_A1C       FENG3_1  27.76\n",
        "187   RMB200_AMY       FENG3_1  27.83\n",
        "188   RMB200_AMY       FENG3_1  28.94"
       ]
      }
     ],
     "prompt_number": 9
    },
    {
     "cell_type": "markdown",
     "metadata": {},
     "source": [
      "## Normalize by RPL32\n",
      "Separte data frame into one with RPL32 control values and one with the genes of interest."
     ]
    },
    {
     "cell_type": "code",
     "collapsed": false,
     "input": [
      "rpl_idx = qdat.Detector_Name == 'RPL32'\n",
      "rpl = qdat[rpl_idx]\n",
      "fengs = qdat[np.invert(rpl_idx)]"
     ],
     "language": "python",
     "metadata": {},
     "outputs": [],
     "prompt_number": 10
    },
    {
     "cell_type": "markdown",
     "metadata": {},
     "source": [
      "Find the RPL32 $C_t$ mean for each sample name."
     ]
    },
    {
     "cell_type": "code",
     "collapsed": false,
     "input": [
      "rpl_means = rpl.groupby('Sample_Name')['Ct'].mean()"
     ],
     "language": "python",
     "metadata": {},
     "outputs": [],
     "prompt_number": 11
    },
    {
     "cell_type": "markdown",
     "metadata": {},
     "source": [
      "Add a column to the data frame `fengs` that has the corresponding RPL32 mean value."
     ]
    },
    {
     "cell_type": "code",
     "collapsed": false,
     "input": [
      "def get_rpl_mean(name):\n",
      "    return rpl_means[name]"
     ],
     "language": "python",
     "metadata": {},
     "outputs": [],
     "prompt_number": 12
    },
    {
     "cell_type": "code",
     "collapsed": false,
     "input": [
      "fengs['rpl_mean'] = fengs.Sample_Name.map(get_rpl_mean)"
     ],
     "language": "python",
     "metadata": {},
     "outputs": [],
     "prompt_number": 13
    },
    {
     "cell_type": "code",
     "collapsed": false,
     "input": [
      "fengs.head()"
     ],
     "language": "python",
     "metadata": {},
     "outputs": [
      {
       "metadata": {},
       "output_type": "pyout",
       "prompt_number": 14,
       "text": [
        "     Sample_Name Detector_Name     Ct   rpl_mean\n",
        "Well                                            \n",
        "172   RMB200_A1C       FENG3_1  26.44  20.536667\n",
        "173   RMB200_A1C       FENG3_1  27.38  20.536667\n",
        "174   RMB200_A1C       FENG3_1  27.76  20.536667\n",
        "187   RMB200_AMY       FENG3_1  27.83  20.460000\n",
        "188   RMB200_AMY       FENG3_1  28.94  20.460000"
       ]
      }
     ],
     "prompt_number": 14
    },
    {
     "cell_type": "markdown",
     "metadata": {},
     "source": [
      "Calculate $\\Delta{}C_t$."
     ]
    },
    {
     "cell_type": "code",
     "collapsed": false,
     "input": [
      "fengs['dCt'] = fengs.Ct - fengs.rpl_mean"
     ],
     "language": "python",
     "metadata": {},
     "outputs": [],
     "prompt_number": 15
    },
    {
     "cell_type": "code",
     "collapsed": false,
     "input": [
      "fengs.head()"
     ],
     "language": "python",
     "metadata": {},
     "outputs": [
      {
       "metadata": {},
       "output_type": "pyout",
       "prompt_number": 16,
       "text": [
        "     Sample_Name Detector_Name     Ct   rpl_mean       dCt\n",
        "Well                                                      \n",
        "172   RMB200_A1C       FENG3_1  26.44  20.536667  5.903333\n",
        "173   RMB200_A1C       FENG3_1  27.38  20.536667  6.843333\n",
        "174   RMB200_A1C       FENG3_1  27.76  20.536667  7.223333\n",
        "187   RMB200_AMY       FENG3_1  27.83  20.460000  7.370000\n",
        "188   RMB200_AMY       FENG3_1  28.94  20.460000  8.480000"
       ]
      }
     ],
     "prompt_number": 16
    },
    {
     "cell_type": "markdown",
     "metadata": {},
     "source": [
      "## Normalize to A1C\n",
      "Separate A1C samples into another data frame and calculate mean of $\\Delta{}C_t$ for each gene."
     ]
    },
    {
     "cell_type": "code",
     "collapsed": false,
     "input": [
      "a1cs = fengs[fengs.Sample_Name.str.endswith('A1C')]\n",
      "a1c_means = a1cs.groupby('Detector_Name')['dCt'].mean()"
     ],
     "language": "python",
     "metadata": {},
     "outputs": [],
     "prompt_number": 17
    },
    {
     "cell_type": "code",
     "collapsed": false,
     "input": [
      "a1c_means"
     ],
     "language": "python",
     "metadata": {},
     "outputs": [
      {
       "metadata": {},
       "output_type": "pyout",
       "prompt_number": 18,
       "text": [
        "Detector_Name\n",
        "FENG3_1          6.656667\n",
        "FENG3_2          6.416667\n",
        "FENG3_3          7.110000\n",
        "FENG3_4          6.036667\n",
        "Name: dCt, dtype: float64"
       ]
      }
     ],
     "prompt_number": 18
    },
    {
     "cell_type": "markdown",
     "metadata": {},
     "source": [
      "Add A1C $\\Delta{}C_t$ to the data frame `fengs`."
     ]
    },
    {
     "cell_type": "code",
     "collapsed": false,
     "input": [
      "## note: lambda expression are often used for such simple functions\n",
      "def get_a1c_means(name):\n",
      "    return a1c_means[name]\n",
      "\n",
      "fengs['a1c_mean'] = fengs.Detector_Name.map(get_a1c_means)"
     ],
     "language": "python",
     "metadata": {},
     "outputs": [],
     "prompt_number": 19
    },
    {
     "cell_type": "markdown",
     "metadata": {},
     "source": [
      "Calculate $\\Delta{}\\Delta{}C_t$."
     ]
    },
    {
     "cell_type": "code",
     "collapsed": false,
     "input": [
      "fengs['ddCt'] = fengs.dCt - fengs.a1c_mean"
     ],
     "language": "python",
     "metadata": {},
     "outputs": [],
     "prompt_number": 20
    },
    {
     "cell_type": "code",
     "collapsed": false,
     "input": [
      "fengs[['Sample_Name', 'Detector_Name', 'ddCt']].head()"
     ],
     "language": "python",
     "metadata": {},
     "outputs": [
      {
       "metadata": {},
       "output_type": "pyout",
       "prompt_number": 21,
       "text": [
        "     Sample_Name Detector_Name      ddCt\n",
        "Well                                    \n",
        "172   RMB200_A1C       FENG3_1 -0.753333\n",
        "173   RMB200_A1C       FENG3_1  0.186667\n",
        "174   RMB200_A1C       FENG3_1  0.566667\n",
        "187   RMB200_AMY       FENG3_1  0.713333\n",
        "188   RMB200_AMY       FENG3_1  1.823333"
       ]
      }
     ],
     "prompt_number": 21
    },
    {
     "cell_type": "markdown",
     "metadata": {},
     "source": [
      "Calculate $2^{-\\Delta{}\\Delta{}C_t}$."
     ]
    },
    {
     "cell_type": "code",
     "collapsed": false,
     "input": [
      "fengs['two_ddCt'] = 2 ** (fengs.ddCt * -1)"
     ],
     "language": "python",
     "metadata": {},
     "outputs": [],
     "prompt_number": 22
    },
    {
     "cell_type": "code",
     "collapsed": false,
     "input": [
      "fengs.two_ddCt.head()"
     ],
     "language": "python",
     "metadata": {},
     "outputs": [
      {
       "metadata": {},
       "output_type": "pyout",
       "prompt_number": 23,
       "text": [
        "Well\n",
        "172     1.685683\n",
        "173     0.878633\n",
        "174     0.675175\n",
        "187     0.609909\n",
        "188     0.282567\n",
        "Name: two_ddCt, dtype: float64"
       ]
      }
     ],
     "prompt_number": 23
    },
    {
     "cell_type": "markdown",
     "metadata": {},
     "source": [
      "## Quick preview of plotting\n",
      "\n",
      "Pandas has several convenient methods that create Matplotlib plots. We will cover plotting later, but just a quick preview.\n",
      "\n",
      "A histogram of all $2^{-\\Delta{}\\Delta{}C_t}$ values."
     ]
    },
    {
     "cell_type": "code",
     "collapsed": false,
     "input": [
      "ax = fengs.two_ddCt.hist(color='0.7', bins=30)\n",
      "## Nothing below should look familiar! Matplotlib-specific\n",
      "ax.set_xlabel(r'$2^{-\\Delta{}\\Delta{}C_t}$')\n",
      "ax.set_ylabel('Count')"
     ],
     "language": "python",
     "metadata": {},
     "outputs": [
      {
       "metadata": {},
       "output_type": "pyout",
       "prompt_number": 24,
       "text": [
        "<matplotlib.text.Text at 0x7fe2c063b490>"
       ]
      },
      {
       "metadata": {},
       "output_type": "display_data",
       "png": "[encoded data removed]",
       "text": [
        "<matplotlib.figure.Figure at 0x7fe2c0618190>"
       ]
      }
     ],
     "prompt_number": 24
    },
    {
     "cell_type": "markdown",
     "metadata": {},
     "source": [
      "Matplotlib can also be used directly. Again, this is just a preview. The above code won't make too much sense without knowing details of Matplotlib, but you should be able to get a general feel reading through it."
     ]
    },
    {
     "cell_type": "code",
     "collapsed": false,
     "input": [
      "fengs['Region'] = fengs.Sample_Name.str.split('_').str.get(1)"
     ],
     "language": "python",
     "metadata": {},
     "outputs": [],
     "prompt_number": 25
    },
    {
     "cell_type": "code",
     "collapsed": false,
     "input": [
      "import matplotlib.pyplot as plt"
     ],
     "language": "python",
     "metadata": {},
     "outputs": [],
     "prompt_number": 26
    },
    {
     "cell_type": "code",
     "collapsed": false,
     "input": [
      "gene_grp = fengs.groupby('Detector_Name')\n",
      "\n",
      "regions = ['OFC', 'DFC', 'VFC', 'MFC', 'M1C', 'S1C', 'IPC', 'A1C',\n",
      "           'STC', 'ITC', 'V1C', 'HIP', 'AMY', 'STR', 'THM', 'CBL']\n",
      "\n",
      "fig, axes = plt.subplots(nrows=2, ncols=2, sharey=True,\n",
      "                         figsize=(11, 6))\n",
      "\n",
      "for ax, (gene, df) in zip(axes.ravel(), gene_grp):\n",
      "    values = [df[df.Region == reg]['two_ddCt'].values\n",
      "              for reg in regions]\n",
      "    ax.boxplot(values)\n",
      "    ax.set_xticklabels(regions, rotation='vertical')\n",
      "    ax.set_title(gene)\n",
      "    \n",
      "fig.text(-0.01, 0.55, r'$2^{-\\Delta{}\\Delta{}C_t}$',\n",
      "         rotation='vertical', va='center', ha='center',\n",
      "         fontsize='large')\n",
      "fig.tight_layout()"
     ],
     "language": "python",
     "metadata": {},
     "outputs": [
      {
       "metadata": {},
       "output_type": "display_data",
       "png": "[encoded data removed]",
       "text": [
        "<matplotlib.figure.Figure at 0x7fe2c04d8450>"
       ]
      }
     ],
     "prompt_number": 27
    }
   ],
   "metadata": {}
  }
 ]
}