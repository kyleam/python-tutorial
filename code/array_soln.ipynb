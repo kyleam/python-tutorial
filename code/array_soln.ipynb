{
 "metadata": {
  "name": ""
 },
 "nbformat": 3,
 "nbformat_minor": 0,
 "worksheets": [
  {
   "cells": [
    {
     "cell_type": "markdown",
     "metadata": {},
     "source": [
      "# Pandas Task"
     ]
    },
    {
     "cell_type": "code",
     "collapsed": false,
     "input": [
      "%pylab inline"
     ],
     "language": "python",
     "metadata": {},
     "outputs": [
      {
       "output_type": "stream",
       "stream": "stdout",
       "text": [
        "Populating the interactive namespace from numpy and matplotlib\n"
       ]
      }
     ],
     "prompt_number": 1
    },
    {
     "cell_type": "code",
     "collapsed": false,
     "input": [
      "import numpy as np\n",
      "import pandas as pd\n",
      "## only need to import if using matplotlib directly,\n",
      "## which we'll do at the very end\n",
      "import matplotlib.pyplot as plt\n",
      "\n",
      "## below line is just cosmetic\n",
      "pd.set_option('notebook_repr_html', False)"
     ],
     "language": "python",
     "metadata": {},
     "outputs": [],
     "prompt_number": 2
    },
    {
     "cell_type": "code",
     "collapsed": false,
     "input": [
      "dat = pd.read_csv('../data/array.csv')"
     ],
     "language": "python",
     "metadata": {},
     "outputs": [],
     "prompt_number": 3
    },
    {
     "cell_type": "code",
     "collapsed": false,
     "input": [
      "dat.head()"
     ],
     "language": "python",
     "metadata": {},
     "outputs": [
      {
       "metadata": {},
       "output_type": "pyout",
       "prompt_number": 4,
       "text": [
        "      gene  brain region side    value\n",
        "0  2318338    135    CBC    L  5.10082\n",
        "1  2318338    144    CBC    L  5.52023\n",
        "2  2318338    144    CBC    R  5.22970\n",
        "3  2318338    182    CBC    L  4.54668\n",
        "4  2318338    183    CBC    L  5.74049"
       ]
      }
     ],
     "prompt_number": 4
    },
    {
     "cell_type": "markdown",
     "metadata": {},
     "source": [
      "## How many genes are in data set?"
     ]
    },
    {
     "cell_type": "code",
     "collapsed": false,
     "input": [
      "dat.gene.nunique()"
     ],
     "language": "python",
     "metadata": {},
     "outputs": [
      {
       "metadata": {},
       "output_type": "pyout",
       "prompt_number": 5,
       "text": [
        "100"
       ]
      }
     ],
     "prompt_number": 5
    },
    {
     "cell_type": "markdown",
     "metadata": {},
     "source": [
      "## What regions are in data set?"
     ]
    },
    {
     "cell_type": "code",
     "collapsed": false,
     "input": [
      "dat.region.unique()"
     ],
     "language": "python",
     "metadata": {},
     "outputs": [
      {
       "metadata": {},
       "output_type": "pyout",
       "prompt_number": 6,
       "text": [
        "array(['CBC', 'DFC'], dtype=object)"
       ]
      }
     ],
     "prompt_number": 6
    },
    {
     "cell_type": "markdown",
     "metadata": {},
     "source": [
      "## Calculate the maximum expression value for each gene."
     ]
    },
    {
     "cell_type": "code",
     "collapsed": false,
     "input": [
      "maxexp = dat.groupby('gene')['value'].max()"
     ],
     "language": "python",
     "metadata": {},
     "outputs": [],
     "prompt_number": 7
    },
    {
     "cell_type": "code",
     "collapsed": false,
     "input": [
      "maxexp.head()"
     ],
     "language": "python",
     "metadata": {},
     "outputs": [
      {
       "metadata": {},
       "output_type": "pyout",
       "prompt_number": 8,
       "text": [
        "gene\n",
        "2318338     5.74049\n",
        "2340186     9.33436\n",
        "2356721     7.62326\n",
        "2367154    10.77410\n",
        "2369484     6.51999\n",
        "Name: value, dtype: float64"
       ]
      }
     ],
     "prompt_number": 8
    },
    {
     "cell_type": "markdown",
     "metadata": {},
     "source": [
      "Which gene has the highest expression?"
     ]
    },
    {
     "cell_type": "code",
     "collapsed": false,
     "input": [
      "maxexp.idxmax()"
     ],
     "language": "python",
     "metadata": {},
     "outputs": [
      {
       "metadata": {},
       "output_type": "pyout",
       "prompt_number": 9,
       "text": [
        "2888243"
       ]
      }
     ],
     "prompt_number": 9
    },
    {
     "cell_type": "markdown",
     "metadata": {},
     "source": [
      "## Calculate the mean value of each gene for each brain region."
     ]
    },
    {
     "cell_type": "code",
     "collapsed": false,
     "input": [
      "meanexp = dat.groupby(['gene', 'region'])['value'].mean()"
     ],
     "language": "python",
     "metadata": {},
     "outputs": [],
     "prompt_number": 10
    },
    {
     "cell_type": "code",
     "collapsed": false,
     "input": [
      "meanexp.head()"
     ],
     "language": "python",
     "metadata": {},
     "outputs": [
      {
       "metadata": {},
       "output_type": "pyout",
       "prompt_number": 11,
       "text": [
        "gene     region\n",
        "2318338  CBC       5.227584\n",
        "         DFC       5.127598\n",
        "2340186  CBC       8.559380\n",
        "         DFC       7.600918\n",
        "2356721  CBC       7.014396\n",
        "Name: value, dtype: float64"
       ]
      }
     ],
     "prompt_number": 11
    },
    {
     "cell_type": "markdown",
     "metadata": {},
     "source": [
      "## Calculate the difference between CBC and DFC expression for each gene\n",
      "\n",
      "(Hint: you have already done the mean calculation above. Look into `unstack`.)"
     ]
    },
    {
     "cell_type": "code",
     "collapsed": false,
     "input": [
      "meanexp = meanexp.unstack()"
     ],
     "language": "python",
     "metadata": {},
     "outputs": [],
     "prompt_number": 12
    },
    {
     "cell_type": "code",
     "collapsed": false,
     "input": [
      "meanexp['expdiff'] = meanexp.CBC - meanexp.DFC"
     ],
     "language": "python",
     "metadata": {},
     "outputs": [],
     "prompt_number": 13
    },
    {
     "cell_type": "code",
     "collapsed": false,
     "input": [
      "meanexp.head()"
     ],
     "language": "python",
     "metadata": {},
     "outputs": [
      {
       "metadata": {},
       "output_type": "pyout",
       "prompt_number": 14,
       "text": [
        "region         CBC       DFC   expdiff\n",
        "gene                                  \n",
        "2318338   5.227584  5.127598  0.099986\n",
        "2340186   8.559380  7.600918  0.958462\n",
        "2356721   7.014396  5.886197  1.128199\n",
        "2367154  10.261352  9.961687  0.299665\n",
        "2369484   5.599340  5.921677 -0.322337"
       ]
      }
     ],
     "prompt_number": 14
    },
    {
     "cell_type": "markdown",
     "metadata": {},
     "source": [
      "Use pandas' `hist` method to plot the distribution of the CBC-DFC expression difference."
     ]
    },
    {
     "cell_type": "code",
     "collapsed": false,
     "input": [
      "ax = meanexp['expdiff'].hist(bins=30)"
     ],
     "language": "python",
     "metadata": {},
     "outputs": [
      {
       "metadata": {},
       "output_type": "display_data",
       "png": "[encoded data removed]",
       "text": [
        "<matplotlib.figure.Figure at 0x4ad90d0>"
       ]
      }
     ],
     "prompt_number": 15
    },
    {
     "cell_type": "markdown",
     "metadata": {},
     "source": [
      "Use pandas' `plot` method to produce a density plot instead."
     ]
    },
    {
     "cell_type": "code",
     "collapsed": false,
     "input": [
      "meanexp.expdiff.plot(kind='density')"
     ],
     "language": "python",
     "metadata": {},
     "outputs": [
      {
       "metadata": {},
       "output_type": "pyout",
       "prompt_number": 16,
       "text": [
        "<matplotlib.axes._subplots.AxesSubplot at 0x4ca0110>"
       ]
      },
      {
       "metadata": {},
       "output_type": "display_data",
       "png": "[encoded data removed]",
       "text": [
        "<matplotlib.figure.Figure at 0x4ca0310>"
       ]
      }
     ],
     "prompt_number": 16
    },
    {
     "cell_type": "markdown",
     "metadata": {},
     "source": [
      "Sort the data frame so that the genes with the highest absolute differences are at the top."
     ]
    },
    {
     "cell_type": "code",
     "collapsed": false,
     "input": [
      "meanexp['absdiff'] = meanexp.expdiff.abs()"
     ],
     "language": "python",
     "metadata": {},
     "outputs": [],
     "prompt_number": 17
    },
    {
     "cell_type": "code",
     "collapsed": false,
     "input": [
      "meanexp.sort('absdiff', ascending=False, inplace=True)"
     ],
     "language": "python",
     "metadata": {},
     "outputs": [],
     "prompt_number": 18
    },
    {
     "cell_type": "code",
     "collapsed": false,
     "input": [
      "meanexp.head()"
     ],
     "language": "python",
     "metadata": {},
     "outputs": [
      {
       "metadata": {},
       "output_type": "pyout",
       "prompt_number": 19,
       "text": [
        "region        CBC       DFC   expdiff   absdiff\n",
        "gene                                           \n",
        "2959039  4.589266  8.171688 -3.582422  3.582422\n",
        "3130850  7.686978  4.943757  2.743221  2.743221\n",
        "3065684  6.780216  4.318930  2.461286  2.461286\n",
        "2890148  9.081256  7.403630  1.677626  1.677626\n",
        "3009335  6.399634  4.806862  1.592772  1.592772"
       ]
      }
     ],
     "prompt_number": 19
    },
    {
     "cell_type": "markdown",
     "metadata": {},
     "source": [
      "Use `loc` and `plot` to produce a bar plot with CBC and DFC expression values for the top gene."
     ]
    },
    {
     "cell_type": "code",
     "collapsed": false,
     "input": [
      "topgene = meanexp.absdiff.idxmax()"
     ],
     "language": "python",
     "metadata": {},
     "outputs": [],
     "prompt_number": 20
    },
    {
     "cell_type": "code",
     "collapsed": false,
     "input": [
      "ax = meanexp.loc[topgene, ['CBC', 'DFC']].plot(kind='bar', facecolor='k')\n",
      "ax.set_title('Top gene')"
     ],
     "language": "python",
     "metadata": {},
     "outputs": [
      {
       "metadata": {},
       "output_type": "pyout",
       "prompt_number": 21,
       "text": [
        "<matplotlib.text.Text at 0x56f6550>"
       ]
      },
      {
       "metadata": {},
       "output_type": "display_data",
       "png": "[encoded data removed]",
       "text": [
        "<matplotlib.figure.Figure at 0x4c7c6d0>"
       ]
      }
     ],
     "prompt_number": 21
    },
    {
     "cell_type": "markdown",
     "metadata": {},
     "source": [
      "## Bonus: Scatter plot\n",
      "\n",
      "Use matplotlib's `scatter` to plot DFC versus CBC expression values."
     ]
    },
    {
     "cell_type": "code",
     "collapsed": false,
     "input": [
      "import matplotlib.pyplot as plt\n",
      "\n",
      "fig, ax = plt.subplots()\n",
      "ax.scatter(meanexp.CBC, meanexp.DFC, s=30,\n",
      "           alpha=0.5, edgecolor='none')\n",
      "ax.set_xlabel('CBC')\n",
      "ax.set_ylabel('DFC')\n",
      "\n",
      "fig.savefig('cbcdfc-scatter.pdf')"
     ],
     "language": "python",
     "metadata": {},
     "outputs": [
      {
       "metadata": {},
       "output_type": "display_data",
       "png": "[encoded data removed]",
       "text": [
        "<matplotlib.figure.Figure at 0x57164d0>"
       ]
      }
     ],
     "prompt_number": 22
    },
    {
     "cell_type": "markdown",
     "metadata": {},
     "source": [
      "Using the pyplot interface (instead of the object-oriented interface used above)"
     ]
    },
    {
     "cell_type": "code",
     "collapsed": false,
     "input": [
      "plt.scatter(meanexp.CBC, meanexp.DFC, s=30,\n",
      "            alpha=0.5, edgecolor='none')\n",
      "plt.ylabel('DFC')\n",
      "plt.xlabel('CBC')"
     ],
     "language": "python",
     "metadata": {},
     "outputs": [
      {
       "metadata": {},
       "output_type": "pyout",
       "prompt_number": 23,
       "text": [
        "<matplotlib.text.Text at 0x4b0ee90>"
       ]
      },
      {
       "metadata": {},
       "output_type": "display_data",
       "png": "[encoded data removed]",
       "text": [
        "<matplotlib.figure.Figure at 0x4e4c790>"
       ]
      }
     ],
     "prompt_number": 23
    }
   ],
   "metadata": {}
  }
 ]
}